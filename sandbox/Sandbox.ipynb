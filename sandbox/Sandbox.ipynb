{
 "cells": [
  {
   "cell_type": "code",
   "execution_count": 71,
   "metadata": {},
   "outputs": [],
   "source": [
    "from PegRobot2D import Frontend\n",
    "WINDOW_X = 1000\n",
    "WINDOW_Y = 500\n",
    "env = Frontend(WINDOW_X, WINDOW_Y, \"RoboPeg2D Simulation\", vsync = False, resizable = False, visible = False)"
   ]
  },
  {
   "cell_type": "markdown",
   "metadata": {},
   "source": [
    "# Body Class"
   ]
  },
  {
   "cell_type": "code",
   "execution_count": 30,
   "metadata": {},
   "outputs": [],
   "source": [
    "radius = 2\n",
    "mass = 3\n",
    "density = 3\n",
    "\n",
    "s = pymunk.Space()\n",
    "b = pymunk.Body()\n",
    "c = pymunk.Circle(b, radius)\n",
    "\n",
    "c.density = density"
   ]
  },
  {
   "cell_type": "code",
   "execution_count": 33,
   "metadata": {},
   "outputs": [
    {
     "name": "stdout",
     "output_type": "stream",
     "text": [
      "0.0 0.0\n",
      "37.69911184307752 75.39822368615503\n"
     ]
    }
   ],
   "source": [
    "print(b.mass, b.moment)\n",
    "s.add(b, c)\n",
    "print(b.mass, b.moment)\n",
    "s.remove(b, c) # Need to remove it in order to add it later on..."
   ]
  },
  {
   "cell_type": "code",
   "execution_count": 34,
   "metadata": {},
   "outputs": [
    {
     "name": "stdout",
     "output_type": "stream",
     "text": [
      "75.39822368615503 3920.7076316800617\n"
     ]
    }
   ],
   "source": [
    "# Multiple shapes\n",
    "b = pymunk.Body()\n",
    "\n",
    "c1 = pymunk.Circle(b, radius, offset = (10,0))\n",
    "c1.density = density\n",
    "c2 = pymunk.Circle(b, radius, offset=(0,10))\n",
    "c2.density = density\n",
    "s.add(b, c1, c2)\n",
    "print(b.mass, b.moment)"
   ]
  },
  {
   "cell_type": "code",
   "execution_count": 35,
   "metadata": {},
   "outputs": [
    {
     "data": {
      "text/plain": [
       "[Body(75.39822368615503, 3920.7076316800617, Body.DYNAMIC)]"
      ]
     },
     "execution_count": 35,
     "metadata": {},
     "output_type": "execute_result"
    }
   ],
   "source": [
    "s.bodies # List of bodies in the space"
   ]
  },
  {
   "cell_type": "markdown",
   "metadata": {},
   "source": [
    "## Velocity functions "
   ]
  },
  {
   "cell_type": "markdown",
   "metadata": {},
   "source": [
    "### Zero Gravity"
   ]
  },
  {
   "cell_type": "code",
   "execution_count": 55,
   "metadata": {},
   "outputs": [
    {
     "name": "stdout",
     "output_type": "stream",
     "text": [
      "Vec2d(0.0, 0.0) Vec2d(1.0, -1.0)\n",
      "Vec2d(0.1, -0.1) Vec2d(2.0, -2.0)\n",
      "Vec2d(0.30000000000000004, -0.30000000000000004) Vec2d(3.0, -3.0)\n"
     ]
    }
   ],
   "source": [
    "# Callback for gravity\n",
    "space = pymunk.Space()\n",
    "space.gravity = 0, 10 # Vec2d\n",
    "body = pymunk.Body(mass = 1, moment = 2)\n",
    "space.add(body)\n",
    "\n",
    "def zero_gravity(body, gravity, damping, dt):\n",
    "    pymunk.Body.update_velocity(body, (10,-10), damping, dt)\n",
    "    \n",
    "body.velocity_func = zero_gravity\n",
    "\n",
    "space.step(0.1)\n",
    "print(body.position, body.velocity)\n",
    "\n",
    "space.step(0.1)\n",
    "print(body.position, body.velocity)\n",
    "\n",
    "space.step(0.1)\n",
    "print(body.position, body.velocity)"
   ]
  },
  {
   "cell_type": "markdown",
   "metadata": {},
   "source": [
    "### Limit Velocity"
   ]
  },
  {
   "cell_type": "code",
   "execution_count": 46,
   "metadata": {},
   "outputs": [],
   "source": [
    "body = pymunk.Body(mass = 1, moment = 2)\n",
    "\n",
    "def limit_velocity(body, gravity, damping, dt):\n",
    "    max_velocity = 1000\n",
    "    pymunk.Body.update_velocity(body , gravity, damping, dt) # Updates velocity of a body using euler integration\n",
    "    l = body.velocity.length # Magnitude of velox\n",
    "    if l > max_velocity:\n",
    "        scale = max_velocity / l\n",
    "        body.velocity = body.velocity * scale # Same as doing boddy.velocity = max_velocity\n",
    "\n",
    "body.velocity_func = limit_velocity"
   ]
  },
  {
   "cell_type": "code",
   "execution_count": 65,
   "metadata": {},
   "outputs": [
    {
     "data": {
      "text/plain": [
       "0"
      ]
     },
     "execution_count": 65,
     "metadata": {},
     "output_type": "execute_result"
    }
   ],
   "source": [
    "body.body_type # he type of a body (Body.DYNAMIC, Body.KINEMATIC or Body.STATIC)"
   ]
  },
  {
   "cell_type": "code",
   "execution_count": 67,
   "metadata": {},
   "outputs": [],
   "source": [
    "body.force = 0,0"
   ]
  },
  {
   "cell_type": "code",
   "execution_count": 81,
   "metadata": {},
   "outputs": [
    {
     "name": "stdout",
     "output_type": "stream",
     "text": [
      "Vec2d(13.73, -13.340000000000003) Vec2d(17.1, -16.8)\n"
     ]
    }
   ],
   "source": [
    "space.step(0.1)\n",
    "print(body.position, body.velocity)"
   ]
  },
  {
   "cell_type": "code",
   "execution_count": 91,
   "metadata": {},
   "outputs": [
    {
     "data": {
      "text/plain": [
       "Vec2d(-12.73, 14.340000000000003)"
      ]
     },
     "execution_count": 91,
     "metadata": {},
     "output_type": "execute_result"
    }
   ],
   "source": [
    "body.force = 0,0\n",
    "body.is_sleeping # boolean\n",
    "body.kinetic_energy\n",
    "body.velocity\n",
    "body.torque\n",
    "body.world_to_local(v = (1,1)) #Distannce vector from world to a local position vector V"
   ]
  },
  {
   "cell_type": "code",
   "execution_count": 93,
   "metadata": {},
   "outputs": [
    {
     "data": {
      "text/plain": [
       "Vec2d(13.73, -13.340000000000003)"
      ]
     },
     "execution_count": 93,
     "metadata": {},
     "output_type": "execute_result"
    }
   ],
   "source": [
    "body.position"
   ]
  },
  {
   "cell_type": "code",
   "execution_count": 100,
   "metadata": {},
   "outputs": [
    {
     "data": {
      "text/plain": [
       "Vec2d(17.1, -16.8)"
      ]
     },
     "execution_count": 100,
     "metadata": {},
     "output_type": "execute_result"
    }
   ],
   "source": [
    "body.velocity_at_world_point(point=body.position)"
   ]
  },
  {
   "cell_type": "markdown",
   "metadata": {},
   "source": [
    "# Shape Class"
   ]
  },
  {
   "cell_type": "markdown",
   "metadata": {},
   "source": [
    "Base class for pymunk.Shape is pymunk._picle.PickleMixin, object.\n",
    "\n",
    "Use specialised shape to intitialise instances directly..\n",
    "\n",
    "__init__(shape=None)\n",
    "\n",
    "Shapes are attached usually attached to bodies, unless shape.body is set to None"
   ]
  },
  {
   "cell_type": "code",
   "execution_count": 114,
   "metadata": {},
   "outputs": [],
   "source": [
    "Shape = pymunk.Shape(shape=pymunk.Circle(body = body , radius = 3, offset = (0,0)))\n",
    "Shape.cache_bb() # update and return bounding box of this shape\n",
    "\n",
    "### useful for multiple sets of shapes attached together\n",
    "Shape.center_of_gravity\n",
    "Shape.density \n",
    "Shape.mass\n",
    "Shape.moment\n",
    "\n",
    "Shape.collision_type # User defined type of collision\n",
    "Shape.bb # Bounding box, need to call Shape.cache_bb() and Space.step() before this can be called\n",
    "\n",
    "### Contact & Collision parameters\n",
    "Shape.elsaticity # Allows some deformation and bounce. 0.0 gives no bounce, 1.0 gives perfect bounce.\n",
    "\n",
    "Shape.friction # Coefficient of friction\n",
    "\n",
    "Shape.point_query(point) # Chcks if the given point lies within the shape, negative distance means it's within :)\n",
    "\n",
    "Shape.segment_query(start, end, radius = 0) # Check if the line segment froms start to end intersects the shape.\n",
    "#Useful for bullets\n",
    "\n",
    "Shape.space # which space it has been added to"
   ]
  },
  {
   "cell_type": "markdown",
   "metadata": {},
   "source": [
    "### Typical Shapes"
   ]
  },
  {
   "cell_type": "markdown",
   "metadata": {},
   "source": [
    "class pymunk.Circle(body, radius, offset=(0, 0)) is a child of class Shape \n",
    "\n",
    "class pymunk.Poly(body, vertices, transform=None, radius=0) is also a child of class Shape \n",
    "    Slowest shape but most flexible\n",
    "    \n",
    "NOTE make sure to put vertices around (0,0)\n",
    "\n",
    "It is legal to send in None as body argument to indicate that this shape is not attached to a body. However, you must attach it to a body before adding the shape to a space or used for a space shape query."
   ]
  },
  {
   "cell_type": "code",
   "execution_count": 3,
   "metadata": {},
   "outputs": [
    {
     "name": "stdout",
     "output_type": "stream",
     "text": [
      "(0.0, 0.0)\n"
     ]
    }
   ],
   "source": [
    "# Place directly\n",
    "w, h = 10, 20\n",
    "vs = [(-w/2, -h/2), (w/2,-h/2), (w/2,h/2), (-w/2,h/2)]\n",
    "poly_good = pymunk.Poly(None, vs, radius = 1) \n",
    "print((poly_good.center_of_gravity.x, poly_good.center_of_gravity.y))\n",
    "# adding a small radius in the vertices can significantly reduce problems where the poly gets stuck in geometry"
   ]
  },
  {
   "cell_type": "code",
   "execution_count": 4,
   "metadata": {},
   "outputs": [
    {
     "name": "stdout",
     "output_type": "stream",
     "text": [
      "(5.0, 10.0)\n",
      "(0.0, 0.0)\n"
     ]
    }
   ],
   "source": [
    "# Or use a transform\n",
    "width, height = 10, 20\n",
    "vs = [(0, 0), (width, 0), (width, height), (0, height)]\n",
    "poly_bad = pymunk.Poly(None, vs)\n",
    "print((poly_bad.center_of_gravity.x, poly_bad.center_of_gravity.y))\n",
    "\n",
    "# Transform\n",
    "t = pymunk.Transform(tx=-width/2, ty=-height/2)\n",
    "poly_good = pymunk.Poly(None, vs, transform=t)\n",
    "print((poly_good.center_of_gravity.x, poly_good.center_of_gravity.y))"
   ]
  },
  {
   "cell_type": "code",
   "execution_count": 6,
   "metadata": {},
   "outputs": [
    {
     "data": {
      "text/plain": [
       "0"
      ]
     },
     "execution_count": 6,
     "metadata": {},
     "output_type": "execute_result"
    }
   ],
   "source": [
    "poly_good.body # None\n",
    "poly_good.collision_type # 0 atm"
   ]
  },
  {
   "cell_type": "code",
   "execution_count": 10,
   "metadata": {},
   "outputs": [
    {
     "data": {
      "text/plain": [
       "<pymunk.shapes.Poly at 0x12d20a32da0>"
      ]
     },
     "execution_count": 10,
     "metadata": {},
     "output_type": "execute_result"
    }
   ],
   "source": [
    "poly_good.create_box(body = None, size=(10, 10), radius=0)\n",
    "# Convenience function to create a box given a width and height.\n",
    "# The boxes will always be centered at the center of gravity of the body you are attaching them to. \n",
    "\n",
    "# Can also create this from the bb\n",
    "poly_good.create_box_bb(body=None, bb=poly_good.bb, radius=0)"
   ]
  },
  {
   "cell_type": "markdown",
   "metadata": {},
   "source": [
    "### Vertices"
   ]
  },
  {
   "cell_type": "code",
   "execution_count": 12,
   "metadata": {},
   "outputs": [
    {
     "data": {
      "text/plain": [
       "[Vec2d(-5.0, -10.0), Vec2d(5.0, -10.0), Vec2d(5.0, 10.0), Vec2d(-5.0, 10.0)]"
      ]
     },
     "execution_count": 12,
     "metadata": {},
     "output_type": "execute_result"
    }
   ],
   "source": [
    "poly_good.get_vertices()"
   ]
  },
  {
   "cell_type": "code",
   "execution_count": 18,
   "metadata": {},
   "outputs": [
    {
     "name": "stdout",
     "output_type": "stream",
     "text": [
      "Vertex Coordinate 1 2\n",
      "Vertex Coordinate 9 6\n",
      "Vertex Coordinate 4 15\n"
     ]
    }
   ],
   "source": [
    "b = pymunk.Body()\n",
    "b.position = 1,2\n",
    "b.angle = 0.5\n",
    "shape = pymunk.Poly(b, [(0,0), (10,0), (10,10)])\n",
    "\n",
    "# Get the vertices in global coordinates because get_vertices gets the vertices in LOCAL COORDINATES!\n",
    "for v in shape.get_vertices():\n",
    "    x,y = v.rotated(shape.body.angle) + shape.body.position\n",
    "    print('Vertex Coordinate', int(x), int(y))"
   ]
  },
  {
   "cell_type": "code",
   "execution_count": 19,
   "metadata": {},
   "outputs": [],
   "source": [
    "import collections"
   ]
  },
  {
   "cell_type": "code",
   "execution_count": 21,
   "metadata": {},
   "outputs": [],
   "source": [
    "Person = collections.namedtuple('Person','name age gender')"
   ]
  },
  {
   "cell_type": "code",
   "execution_count": 26,
   "metadata": {},
   "outputs": [],
   "source": [
    "bob = Person(name = 'bob', age = 30, gender = 'male')\n",
    "jane = Person(name = 'jane', age = 29, gender = 'female')"
   ]
  },
  {
   "cell_type": "code",
   "execution_count": 29,
   "metadata": {},
   "outputs": [
    {
     "name": "stdout",
     "output_type": "stream",
     "text": [
      "30\n",
      "29\n"
     ]
    }
   ],
   "source": [
    "for p in [bob, jane]:\n",
    "    print(p.age)"
   ]
  },
  {
   "cell_type": "markdown",
   "metadata": {},
   "source": [
    "### Segments\n",
    "\n",
    "Bases: pymunk.shapes.Shape\n",
    "\n",
    "Mainly a static 2D line can be beveled into thickness. \n",
    "\n",
    "__init__(body, a, b, radius)\n",
    "Body -> body attached to it\n",
    "a, b first and second endpoints\n",
    "radius: (float) thickness of segment\n",
    "\n",
    "Special __methods__\n",
    "\n",
    "    set_neighbors(prev, next) avoid crack forming in ensemble of segments "
   ]
  },
  {
   "cell_type": "markdown",
   "metadata": {},
   "source": [
    "## Contacts"
   ]
  },
  {
   "cell_type": "markdown",
   "metadata": {},
   "source": [
    "$class pymunk.SegmentQueryInfo$\n",
    "\n",
    "The properties are as follows\n",
    "\n",
    "shape Shape that was hit, or None if no collision occured\n",
    "\n",
    "point The point of impact.\n",
    "\n",
    "normal The normal of the surface hit.\n",
    "\n",
    "alpha The normalized distance along the query segment in the range [0, 1]"
   ]
  },
  {
   "cell_type": "markdown",
   "metadata": {},
   "source": [
    "###############################################################\n",
    "\n",
    "$class pymunk.ContactPoint(point_a, point_b, distance)$\n",
    "\n",
    "$class pymunk.ContactPointSet(normal, points)$\n",
    "\n",
    "Bases: object\n",
    "\n",
    "distance is the penetration distance of the two shapes. Overlapping means it will be negative.<"
   ]
  },
  {
   "cell_type": "markdown",
   "metadata": {},
   "source": [
    "### Arbiter\n",
    "\n",
    "Encapsulates a pair of colliding shapes and all the data about their collision. It is created when objects collide and deleted when no longer in collision.\n",
    "\n",
    "contact_point_set -> contact poitns ets getting contact info\n"
   ]
  },
  {
   "cell_type": "markdown",
   "metadata": {},
   "source": [
    "# Basic Tutorial Examples"
   ]
  },
  {
   "cell_type": "code",
   "execution_count": 5,
   "metadata": {},
   "outputs": [],
   "source": [
    "def f1(func):\n",
    "    def wrapper(*args, **kwargs):\n",
    "        print(\"started\")\n",
    "        func(*args, **kwargs)\n",
    "        print(\"Ended\")\n",
    "\n",
    "    return wrapper\n",
    "\n",
    "@f1\n",
    "def f(a, b=9):\n",
    "    print(a, b)\n",
    "    \n",
    "def add(x,y):\n",
    "    return x + y\n",
    "\n",
    "# Decorators are very useful for example, can add decorator functions whichh:\n",
    "    # Time a function call\n",
    "    # Log a function call\n",
    "    # Multithread a function etc..."
   ]
  },
  {
   "cell_type": "markdown",
   "metadata": {},
   "source": [
    "## Pymunk Sandbox"
   ]
  },
  {
   "cell_type": "code",
   "execution_count": 1,
   "metadata": {},
   "outputs": [
    {
     "name": "stdout",
     "output_type": "stream",
     "text": [
      "Loading chipmunk for Windows (64bit) [C:\\Users\\Alvaro\\Anaconda3\\lib\\site-packages\\pymunk\\chipmunk.dll]\n"
     ]
    }
   ],
   "source": [
    "import matplotlib.pyplot as plt\n",
    "from matplotlib import animation\n",
    "from IPython.display import HTML\n",
    "import pymunk\n",
    "from pymunk.vec2d import Vec2d\n",
    "import pymunk.matplotlib_util"
   ]
  },
  {
   "cell_type": "code",
   "execution_count": 4,
   "metadata": {},
   "outputs": [],
   "source": [
    "def setup_space():\n",
    "    space = pymunk.Space()\n",
    "    space.gravity = 0,-9820\n",
    "    space.damping = 0.99\n",
    "    return space\n",
    "\n",
    "def setup_balls(space):\n",
    "    width = 600\n",
    "    height = 600\n",
    "    for x in range(-100,150,50):\n",
    "        x += width / 2\n",
    "        offset_y = height/2\n",
    "        mass = 10\n",
    "        radius = 25\n",
    "        moment = pymunk.moment_for_circle(mass, 0, radius, (0,0))\n",
    "        body = pymunk.Body(mass, moment)\n",
    "        body.position = x, -125+offset_yfig = plt.figure()\n",
    "ax = plt.axes(xlim=(0, 600), ylim=(0, 600))\n",
    "ax.set_aspect(\"equal\")\n",
    "\n",
    "space = setup_space()\n",
    "setup_balls(space)\n",
    "\n",
    "o = pymunk.matplotlib_util.DrawOptions(ax)\n",
    "\n",
    "\n",
    "space.shapes[1].body.apply_impulse_at_local_point((-12000,0))\n",
    "    \n",
    "def init():\n",
    "    space.debug_draw(o)\n",
    "    return []\n",
    "\n",
    "def animate(dt):\n",
    "    #we run the animation with half speed intentionally to make it a little nicer to look at\n",
    "    for x in range(10):\n",
    "        space.step(1/50/10/2)\n",
    "    ax.clear()\n",
    "    space.debug_draw(o)\n",
    "    return []\n",
    "\n",
    "frames = 105\n",
    "anim = animation.FuncAnimation(fig, animate, init_func=init,\n",
    "                               frames=frames, interval=20, blit=False)\n",
    "\n",
    "HTML(anim.to_html5_video())\n",
    "        body.start_position = Vec2d(body.position)\n",
    "        shape = pymunk.Circle(body, radius)\n",
    "        shape.elasticity = 0.9999999\n",
    "        space.add(body, shape)\n",
    "        pj = pymunk.PinJoint(space.static_body, body, (x, 125+offset_y), (0,0))\n",
    "        space.add(pj)"
   ]
  },
  {
   "cell_type": "code",
   "execution_count": 9,
   "metadata": {},
   "outputs": [
    {
     "name": "stdout",
     "output_type": "stream",
     "text": [
      "13\n"
     ]
    }
   ],
   "source": [
    "import pymunk\n",
    "from pymunk.autogeometry import march_soft\n",
    "img = [\n",
    "    \"  xx   \",\n",
    "    \"  xx   \",\n",
    "    \"  xx   \",\n",
    "    \"  xx   \",\n",
    "    \"  xx   \",\n",
    "    \"  xxxxx\",\n",
    "    \"  xxxxx\",\n",
    "]\n",
    "segments = []\n",
    "\n",
    "def segment_func(v0, v1):\n",
    "    segments.append((tuple(v0), tuple(v1)))\n",
    "def sample_func(point):\n",
    "    x = int(point.x)\n",
    "    y = int(point.y)\n",
    "    return 1 if img[y][x] == \"x\" else 0\n",
    "\n",
    "march_soft(pymunk.BB(0,0,6,6), 7, 7, .5, segment_func, sample_func)\n",
    "print(len(segments))"
   ]
  },
  {
   "cell_type": "code",
   "execution_count": 30,
   "metadata": {},
   "outputs": [
    {
     "data": {
      "text/plain": [
       "{<pymunk.constraint.PinJoint at 0x2d6b51a4898>,\n",
       " <pymunk.constraint.PinJoint at 0x2d6b54d3630>}"
      ]
     },
     "execution_count": 30,
     "metadata": {},
     "output_type": "execute_result"
    }
   ],
   "source": []
  },
  {
   "cell_type": "code",
   "execution_count": 31,
   "metadata": {},
   "outputs": [
    {
     "name": "stdout",
     "output_type": "stream",
     "text": [
      "Pivoing at (280.0, 300.0)\n",
      "Body(Body.STATIC) Body(3314.2654824574365, 11065227.690764561, Body.DYNAMIC)\n",
      "Pivoing at Vec2d(479.4692377027735, 314.5610168008435)\n",
      "Body(3314.2654824574365, 11065227.690764561, Body.DYNAMIC) Body(3314.2654824574374, 11065227.690764563, Body.DYNAMIC)\n",
      "Pivoing at Vec2d(670.3594517579219, 254.8875203557747)\n",
      "Body(3314.2654824574374, 11065227.690764563, Body.DYNAMIC) Body(5598.469004940774, 18691421.851162262, Body.DYNAMIC)\n"
     ]
    }
   ],
   "source": [
    "import pyglet\n",
    "import pymunk\n",
    "from pymunk import constraint\n",
    "from pymunk.pyglet_util import DrawOptions\n",
    "from pyglet.window import key, FPSDisplay\n",
    "from math import degrees\n",
    "from pymunk import Vec2d\n",
    "import numpy as np\n",
    "\n",
    "WINDOW_X = 1280\n",
    "WINDOW_Y = 720\n",
    "ORIGIN = (280.0, 300.0) # Robot gripper origin\n",
    "\n",
    "space = pymunk.Space()\n",
    "space.gravity = (0, 0) # Gravity-less 2D simulation (2D robot operating on x,y plane)\n",
    "space.damping = 0.95\n",
    "    \n",
    "class Environment:\n",
    "    def __init__(self, sprites = None):\n",
    "        self.sprites = sprites\n",
    "\n",
    "    def add_static_segment(self, position, endpoint_e, radius = 3.0, elasticity = 0.8, friction = 0.7):\n",
    "        \"\"\"\n",
    "        *args\n",
    "            endpoint_s -- Vec2D argument\n",
    "            endpoint_e -- Vec2D argument\n",
    "            elasticity [0, 1]\n",
    "            friction [0, 1]\n",
    "        ** kwargs\n",
    "            radius\n",
    "            Elasticity\n",
    "            friction\n",
    "        \"\"\"\n",
    "        # Make a static segment (floor)\n",
    "        segment_shape = pymunk.Segment(space.static_body, (0, 0), endpoint_e, radius)\n",
    "        #segment_shape.id = 1\n",
    "        segment_shape.body.position = position\n",
    "        segment_shape.elasticity = elasticity\n",
    "        segment_shape.friction = friction\n",
    "        segment_shape.set_neighbors(endpoint_e, position)\n",
    "\n",
    "        space.add(segment_shape)\n",
    "\n",
    "    def make_static_env(self):\n",
    "        \"\"\"\n",
    "        seg_list is a list of tuples containing args for add_static_segment\n",
    "        \"\"\"\n",
    "\n",
    "        # Static Coordinates for peg\n",
    "        peg_pos_x = 1000\n",
    "        mid_frame = 360\n",
    "        peg_girth = 40\n",
    "        peg_depth = 200\n",
    "\n",
    "        seg_list = [(Vec2d(peg_pos_x,0),Vec2d(0,mid_frame - peg_girth//2)),\n",
    "                     (Vec2d(peg_pos_x,mid_frame - peg_girth//2),Vec2d(peg_depth,0)),\n",
    "                     (Vec2d(peg_pos_x + peg_depth,mid_frame - peg_girth//2),Vec2d(0,peg_girth)),\n",
    "                     (Vec2d(peg_pos_x + peg_depth,mid_frame + peg_girth//2),Vec2d(-peg_depth,0)),\n",
    "                     (Vec2d(peg_pos_x,mid_frame + peg_girth//2),Vec2d(0,WINDOW_Y - mid_frame - peg_girth//2))]\n",
    "\n",
    "        for segment in seg_list:\n",
    "            self.add_static_segment(*segment)\n",
    "\n",
    "    def make_dynamic_env(self):\n",
    "        pass\n",
    "\n",
    "class Arms:\n",
    "    def __init__(self, arm_lengths, thickness = 4, radii = [4,4,9]):\n",
    "        self.lengths = arm_lengths\n",
    "        self.n = len(self.lengths)\n",
    "        self.radii = radii\n",
    "        self.thickness = thickness\n",
    "        self.pos = []\n",
    "        self.arm_vecs = []\n",
    "        \n",
    "class PivotJoint:\n",
    "    def __init__(self, b, b2, a=(0, 0), a2=(0, 0), collide=True):\n",
    "        joint = pymunk.constraint.PinJoint(b, b2, a, a2)\n",
    "        joint.collide_bodies = collide\n",
    "        space.add(joint)\n",
    "        \n",
    "class Segment:\n",
    "    def __init__(self, p0, v, radius=10):\n",
    "        self.body = pymunk.Body()\n",
    "        self.body.position = p0\n",
    "        shape = pymunk.Segment(self.body, (0, 0), v, radius)\n",
    "        shape.density = 0.1\n",
    "        shape.elasticity = 0.5\n",
    "        shape.filter = pymunk.ShapeFilter(group=1)\n",
    "        shape.color = (0, 255, 0, 0)\n",
    "        space.add(self.body, shape)\n",
    "        \n",
    "class RobotEnvironment:\n",
    "    def __init__(self, arm_lengths):\n",
    "        self.state = None \n",
    "        self.Arms = Arms(arm_lengths)\n",
    "        self.random_arm_generator()\n",
    "        self.PivotPoints = [(ORIGIN,0)]\n",
    "\n",
    "    def random_arm_generator(self):\n",
    "        for idx in range(self.Arms.n):\n",
    "            rand_angle = np.random.random_sample()*np.pi/2 - np.pi/4\n",
    "            length = self.Arms.lengths[idx]\n",
    "            self.Arms.pos.append((length, rand_angle))\n",
    "\n",
    "    def get_vertices(self, arm_data):\n",
    "        thc = self.Arms.thickness\n",
    "        return [(-arm_data[0]//2,-thc),(arm_data[0]//2,-thc),(arm_data[0]//2,thc),(-arm_data[0]//2,thc)]\n",
    "\n",
    "    def get_pos(self, arm_data, idx):\n",
    "        self.arm_vector_curr = Vec2d((arm_data[0]*np.cos(arm_data[1]), arm_data[0]*np.sin(arm_data[1])))\n",
    "        self.Arms.arm_vecs.append(self.arm_vector_curr)\n",
    "        if idx is 0:\n",
    "            self.point_a = ORIGIN\n",
    "        else:\n",
    "            self.point_a = self.point_b \n",
    "        self.point_b = self.point_a + self.arm_vector_curr\n",
    "        return self.point_a + self.arm_vector_curr//2\n",
    "\n",
    "    def get_transform(self, arm_data):\n",
    "        t = pymunk.Transform(a = np.cos(arm_data[1]), c = -np.sin(arm_data[1]), tx = 0,\n",
    "                             b = np.sin(arm_data[1]), d = np.cos(arm_data[1]), ty = 0)\n",
    "        return t\n",
    "\n",
    "    def save_pivot(self, idx):\n",
    "        self.PivotPoints.append((self.point_a + self.arm_vector_curr, idx))\n",
    "        \n",
    "    def reset_bodies(self):\n",
    "        for body in space.bodies:\n",
    "            if not hasattr(body, 'start_position'):\n",
    "                continue\n",
    "            body.position = Vec2d(body.start_position)\n",
    "            body.force = 0, 0\n",
    "            body.torque = 0\n",
    "            body.velocity = 0, 0\n",
    "            body.angular_velocity = 0\n",
    "            body.angle = body.start_angle\n",
    "\n",
    "    def init_robot(self):\n",
    "        \n",
    "        self.bodies = []\n",
    "        \n",
    "        b0= space.static_body\n",
    "        b0.id = 'root'\n",
    "#         space.add(b0)\n",
    "        self.bodies.append(b0)\n",
    "#         body = pymunk.Body(body_type = pymunk.Body.STATIC)\n",
    "#         body.position = ORIGIN\n",
    "#         shape = pymunk.Circle(body, radius = 0.2)\n",
    "#         shape.filter = pymunk.ShapeFilter(group = 1)\n",
    "#         space.add(shape, shape.body)\n",
    "#         self.bodies.append(body)\n",
    "        \n",
    "        for idx, arm_data in enumerate(self.Arms.pos):\n",
    "            vertices = self.get_vertices(arm_data)\n",
    "            pos = self.get_pos(arm_data, idx)\n",
    "            t = self.get_transform(arm_data)\n",
    "            self.save_pivot(idx+1)\n",
    "            \n",
    "            body = pymunk.Body()\n",
    "            body.position = pos\n",
    "            body.id = f'arm{idx+1}'\n",
    "             \n",
    "            shape = pymunk.Poly(body, vertices, t,  radius = self.Arms.radii[idx])\n",
    "            shape.filter = pymunk.ShapeFilter(group = 1)\n",
    "            shape.elasticity = 0.5\n",
    "            shape.color = (0, 255, 0, 0)\n",
    "            shape.friction = 0.9\n",
    "            shape.density = 1\n",
    "            \n",
    "            space.add(body, shape)\n",
    "            self.bodies.append(body)\n",
    "        \n",
    "        self.add_constraints()\n",
    "        \n",
    "    def add_constraints(self):\n",
    "\n",
    "        for idx, body in enumerate(self.bodies):\n",
    "            if idx < len(self.bodies) - 1:\n",
    "                print(f\"Pivoing at {self.PivotPoints[idx][0]}\")\n",
    "                print(body, self.bodies[idx + 1])\n",
    "                PivotJoint(body, self.bodies[idx + 1], body.world_to_local(self.PivotPoints[idx][0]),\n",
    "                           self.bodies[idx+1].world_to_local(self.PivotPoints[idx][0]))\n",
    "\n",
    "    def get_state(self):\n",
    "        return [angle[1] for angle in self.Arms.pos]\n",
    "    \n",
    "def coll_begin(arbiter, space, data):\n",
    "    print('New Collision')\n",
    "    pass\n",
    "    return True\n",
    "\n",
    "def coll_pre(arbiter, space, data):\n",
    "    print('Preprocess collision')\n",
    "    \"\"\"First touch\"\"\"\n",
    "    return True\n",
    "\n",
    "def coll_post(arbiter, space, data):\n",
    "    print('Postprocess collision')\n",
    "    \"\"\"Calls during contact\"\"\"\n",
    "    pass\n",
    "\n",
    "def coll_separate(arbiter, space, data):\n",
    "    \"\"\"Calls when objects are not touching\"\"\"\n",
    "    print('No more collision')\n",
    "    pass\n",
    "\n",
    "# handler = space.add_default_collision_handler()\n",
    "# handler.begin = coll_begin\n",
    "# handler.pre_solve = coll_pre\n",
    "# handler.post_solve = coll_post\n",
    "# handler.separate = coll_separate\n",
    "\n",
    "class GameWindow(pyglet.window.Window):\n",
    "    def __init__(self,*args,**kwargs):\n",
    "        super().__init__(*args,**kwargs)\n",
    "        self.fps = FPSDisplay(self)\n",
    "        self.space = space\n",
    "        self.options = DrawOptions()\n",
    "\n",
    "    def on_key_press(self,symbol, modifiers):\n",
    "        if symbol == key.UP:\n",
    "    #         print('UP')\n",
    "            self.space.bodies[-1].velocity.y += 600\n",
    "        elif symbol == key.DOWN:\n",
    "    #         print('DOWN')\n",
    "            self.space.bodies[-1].velocity.y -= 600\n",
    "        elif symbol == key.LEFT:\n",
    "    #         print('LEFT')\n",
    "            self.space.bodies[-1].velocity.x -= 600\n",
    "        elif symbol == key.RIGHT:\n",
    "    #         print('RIGHT')\n",
    "            self.space.bodies[-1].velocity.x += 600\n",
    "    \n",
    "    def on_draw(self):\n",
    "        self.clear() # clear the buffer\n",
    "        # Order matters here!\n",
    "        self.space.debug_draw(self.options)\n",
    "        self.fps.draw()\n",
    "\n",
    "    def on_mouse_press(self,x, y, button, modifier):\n",
    "        print(x,y)\n",
    "        point_q = space.point_query_nearest((x,y), 0, pymunk.ShapeFilter())\n",
    "        if point_q:\n",
    "            print(point_q.shape, point_q.shape.body)\n",
    "    \n",
    "    def update(self, dt):\n",
    "        for r in range(10):\n",
    "            space.step(dt)\n",
    "        \n",
    "if __name__ == \"__main__\":\n",
    "    window = GameWindow()\n",
    "    env = Environment()\n",
    "    robo = RobotEnvironment([200.0,200.0,200.0])\n",
    "    env.make_static_env()\n",
    "    robo.init_robot()\n",
    "    pyglet.clock.schedule_interval(window.update, 1.0/60)\n",
    "    pyglet.app.run()"
   ]
  },
  {
   "cell_type": "code",
   "execution_count": 26,
   "metadata": {},
   "outputs": [
    {
     "data": {
      "text/plain": [
       "[Body(Body.KINEMATIC), Body(Body.KINEMATIC), Body(Body.KINEMATIC)]"
      ]
     },
     "execution_count": 26,
     "metadata": {},
     "output_type": "execute_result"
    }
   ],
   "source": [
    "space.bodies"
   ]
  },
  {
   "cell_type": "code",
   "execution_count": 23,
   "metadata": {},
   "outputs": [
    {
     "data": {
      "text/plain": [
       "[Body(191.41592653589794, 165893.8029977782, Body.DYNAMIC),\n",
       " Body(191.41592653589794, 165893.8029977782, Body.DYNAMIC),\n",
       " Body(351.415926535898, 960536.8658647877, Body.DYNAMIC)]"
      ]
     },
     "execution_count": 23,
     "metadata": {},
     "output_type": "execute_result"
    }
   ],
   "source": [
    "space.bodies"
   ]
  },
  {
   "cell_type": "code",
   "execution_count": 9,
   "metadata": {},
   "outputs": [
    {
     "data": {
      "text/plain": [
       "Vec2d(360.0, 190.0)"
      ]
     },
     "execution_count": 9,
     "metadata": {},
     "output_type": "execute_result"
    }
   ],
   "source": [
    "c2.body.position"
   ]
  },
  {
   "cell_type": "code",
   "execution_count": 1,
   "metadata": {},
   "outputs": [
    {
     "name": "stdout",
     "output_type": "stream",
     "text": [
      "Loading chipmunk for Windows (64bit) [C:\\Users\\Alvaro\\Anaconda3\\lib\\site-packages\\pymunk\\chipmunk.dll]\n",
      "Found at iteration 5117\n"
     ]
    }
   ],
   "source": [
    "import pyglet\n",
    "import pymunk\n",
    "import pymunkoptions\n",
    "from pymunk import constraint\n",
    "from pymunk.pyglet_util import DrawOptions\n",
    "from pyglet.window import key, FPSDisplay\n",
    "from math import degrees\n",
    "from pymunk import Vec2d\n",
    "from numpy import cos, sin\n",
    "from numpy.random import random_sample\n",
    "from numpy import pi as np_pi\n",
    "import numpy as np\n",
    "import functools\n",
    "\n",
    "pymunkoptions.options[\"debug\"] = False\n",
    "\n",
    "# Meta Variables\n",
    "WINDOW_X = 1280\n",
    "WINDOW_Y = 720\n",
    "ORIGIN = (450.0, 360.0) # Robot gripper origin\n",
    "\n",
    "class StaticEnvironment:\n",
    "    def __init__(self, space, sprites = None):\n",
    "        self.sprites = sprites\n",
    "        self.space = space\n",
    "        self.make_static_env()\n",
    "\n",
    "    def add_static_segment(self, position, endpoint_e, radius = 3.0, elasticity = 0.8, friction = 0.7):\n",
    "        \"\"\"\n",
    "        *args\n",
    "            endpoint_s -- Vec2D argument\n",
    "            endpoint_e -- Vec2D argument\n",
    "            elasticity [0, 1]\n",
    "            friction [0, 1]\n",
    "        ** kwargs\n",
    "            radius\n",
    "            Elasticity\n",
    "            friction\n",
    "        \"\"\"\n",
    "        # Make a static segment (floor)\n",
    "        segment_shape = pymunk.Segment(self.space.static_body, (0, 0), endpoint_e, radius)\n",
    "        #segment_shape.id = 1\n",
    "        segment_shape.body.position = position\n",
    "        segment_shape.elasticity = elasticity\n",
    "        segment_shape.friction = friction\n",
    "        segment_shape.set_neighbors(endpoint_e, position)\n",
    "\n",
    "        self.space.add(segment_shape)\n",
    "\n",
    "    def make_static_env(self):\n",
    "        \"\"\"\n",
    "        seg_list is a list of tuples containing args for add_static_segment\n",
    "        \"\"\"\n",
    "\n",
    "        # Static Coordinates for peg\n",
    "        peg_pos_x = 1000\n",
    "        mid_frame = 360\n",
    "        peg_girth = 40\n",
    "        peg_depth = 200\n",
    "\n",
    "        seg_list = [(Vec2d(peg_pos_x,0),Vec2d(0,mid_frame - peg_girth//2)),\n",
    "                     (Vec2d(peg_pos_x,mid_frame - peg_girth//2),Vec2d(peg_depth,0)),\n",
    "                     (Vec2d(peg_pos_x + peg_depth,mid_frame - peg_girth//2),Vec2d(0,peg_girth)),\n",
    "                     (Vec2d(peg_pos_x + peg_depth,mid_frame + peg_girth//2),Vec2d(-peg_depth,0)),\n",
    "                     (Vec2d(peg_pos_x,mid_frame + peg_girth//2),Vec2d(0,WINDOW_Y - mid_frame - peg_girth//2))]\n",
    "\n",
    "        for segment in seg_list:\n",
    "            self.add_static_segment(*segment)\n",
    "\n",
    "class Arms:\n",
    "    def __init__(self, arm_lengths, thickness = 4, radii = [5,5,10]):\n",
    "        self.lengths = arm_lengths\n",
    "        self.n = len(self.lengths)\n",
    "        self.radii = radii\n",
    "        self.thickness = thickness\n",
    "        self.pos = [None]*self.n\n",
    "        self.arm_vecs = [None]*self.n\n",
    "\n",
    "class PivotJoint:\n",
    "    def __init__(self, space, b, b2, a=(0, 0), a2=(0, 0), collide=True):\n",
    "        joint = pymunk.constraint.PinJoint(b, b2, a, a2)\n",
    "        joint.collide_bodies = collide\n",
    "        self.joint = joint\n",
    "        space.add(joint)\n",
    "\n",
    "class Segment:\n",
    "    def __init__(self, space, p0, v, radius=10):\n",
    "        self.body = pymunk.Body()\n",
    "        self.body.position = p0\n",
    "        shape = pymunk.Segment(self.body, (0, 0), v, radius)\n",
    "        shape.density = 0.1\n",
    "        shape.elasticity = 0.5\n",
    "        shape.filter = pymunk.ShapeFilter(group=1)\n",
    "        shape.color = (0, 255, 0, 0)\n",
    "        space.add(self.body, shape)\n",
    "\n",
    "class RobotEnvironment:\n",
    "    def __init__(self, space, arm_lengths = [200, 200, 200, 200], radii = [5, 5, 5, 10]):\n",
    "        self.state = None\n",
    "        self.space = space\n",
    "        self.PivotPoints = [None]*(1+len(arm_lengths))\n",
    "        self.PivotPoints[0] = (ORIGIN,0)\n",
    "        self.Arms = Arms(arm_lengths, radii = radii)\n",
    "        self.set_action_range(0.1)\n",
    "        self.init_arms()\n",
    "        self.init_robot()\n",
    "\n",
    "    def init_arms(self):\n",
    "        self.random_arm_generator()\n",
    "        # self.joints = []\n",
    "\n",
    "    def set_action_range(self, val):\n",
    "        # Max velocity actions\n",
    "        self.action_high = val\n",
    "        self.action_low = - val\n",
    "        self.action_buffered = np.zeros((3,))\n",
    "\n",
    "    def random_arm_generator(self):\n",
    "        got = False\n",
    "        iterator = 1\n",
    "        while got is False:\n",
    "            len_x = 0\n",
    "            len_y = 0\n",
    "            for idx in range(self.Arms.n):\n",
    "                rand_angle = random_sample()*np_pi/2 - np_pi/4\n",
    "                length = self.Arms.lengths[idx]\n",
    "                len_x += length*cos(rand_angle)\n",
    "                len_y += length*sin(rand_angle)\n",
    "                self.Arms.pos[idx] = (length, rand_angle)\n",
    "            if len_x < 1000 - ORIGIN[0] and abs(len_y) < 120:\n",
    "                print(f\"Found at iteration {iterator}\")\n",
    "                got = True\n",
    "            else:\n",
    "                iterator += 1\n",
    "                self.Arms.pos = [None]*self.Arms.n\n",
    "\n",
    "    def get_vertices(self, arm_data):\n",
    "        thc = self.Arms.thickness\n",
    "        return [(-arm_data[0]//2,-thc),(arm_data[0]//2,-thc),(arm_data[0]//2,thc),(-arm_data[0]//2,thc)]\n",
    "\n",
    "    def get_pos(self, arm_data, idx):\n",
    "        self.arm_vector_curr = Vec2d((arm_data[0]*cos(arm_data[1]), arm_data[0]*sin(arm_data[1])))\n",
    "        self.Arms.arm_vecs[idx] = self.arm_vector_curr\n",
    "        if idx is 0:\n",
    "            self.point_a = ORIGIN\n",
    "        else:\n",
    "            self.point_a = self.point_b\n",
    "        self.point_b = self.point_a + self.arm_vector_curr\n",
    "        return self.point_a + self.arm_vector_curr//2\n",
    "\n",
    "    def get_transform(self, arm_data):\n",
    "        t = pymunk.Transform(a = cos(arm_data[1]), c = -sin(arm_data[1]), tx = 0,\n",
    "                             b = sin(arm_data[1]), d = cos(arm_data[1]), ty = 0)\n",
    "        return t\n",
    "\n",
    "    def save_pivot(self, idx):\n",
    "        self.PivotPoints[idx+1] = (self.point_a + self.arm_vector_curr, idx+1)\n",
    "\n",
    "    def reset_bodies(self, random_reset = False):\n",
    "        if not random_reset:\n",
    "            for body in self.space.bodies:\n",
    "                if not hasattr(body, 'start_position'):\n",
    "                    continue\n",
    "                body.position = Vec2d(body.start_position)\n",
    "                body.force = 0, 0\n",
    "                body.torque = 0\n",
    "                body.velocity = 0, 0\n",
    "                body.angular_velocity = 0\n",
    "                body.angle = body.start_angle\n",
    "        else:\n",
    "            self.init_arms()\n",
    "            idx = 0\n",
    "            for idx, arm_data in enumerate(self.Arms.pos):\n",
    "\n",
    "                pos = self.get_pos(arm_data, idx)\n",
    "                angle = arm_data[1]\n",
    "                body = self.bodies[idx+1]\n",
    "                body.position = pos\n",
    "                body.start_position = pos\n",
    "                body.angle = arm_data[1]\n",
    "                body.start_angle = arm_data[1]\n",
    "                self.save_pivot(idx)\n",
    "                body.velocity = 0, 0\n",
    "                body.angular_velocity = 0\n",
    "                body.start_position = pos\n",
    "                body.start_angle = angle\n",
    "                body.position =  pos\n",
    "                body.force = 0, 0\n",
    "                body.torque = 0\n",
    "                body.angle = angle\n",
    "                idx += 1\n",
    "\n",
    "    def init_robot(self):\n",
    "\n",
    "        b0 = self.space.static_body\n",
    "        b0.id = 'root'\n",
    "        self.bodies = [b0]\n",
    "        self.joints = []\n",
    "        self.motors = []\n",
    "\n",
    "        for idx, arm_data in enumerate(self.Arms.pos):\n",
    "            vertices = self.get_vertices(arm_data)\n",
    "            pos = self.get_pos(arm_data, idx)\n",
    "            t = self.get_transform((0, 0))\n",
    "            self.save_pivot(idx)\n",
    "\n",
    "            body = pymunk.Body()\n",
    "            body.position = pos\n",
    "            body.start_position = pos\n",
    "            body.angle = arm_data[1]\n",
    "            body.start_angle = arm_data[1]\n",
    "\n",
    "            body.id = 'peg' if idx+1 is len(self.Arms.pos) else f'arm{idx+1}'\n",
    "            body.velocity_func = self.limit_velox\n",
    "            shape = pymunk.Poly(body, vertices, t,  radius = self.Arms.radii[idx])\n",
    "            shape.filter = pymunk.ShapeFilter(group = 1)\n",
    "            shape.elasticity = 0.5\n",
    "            shape.color = (0, 255, 0, 0)\n",
    "            shape.friction = 0.8\n",
    "            shape.density = 1\n",
    "\n",
    "            self.space.add(body, shape)\n",
    "            self.bodies.append(body)\n",
    "\n",
    "        self.add_constraints()\n",
    "\n",
    "    def limit_velox(self, body, gravity, damping, dt):\n",
    "        max_velox = 100\n",
    "        max_velox_angular = np_pi/2\n",
    "\n",
    "        pymunk.Body.update_velocity(body, gravity, damping, dt)\n",
    "        l = body.velocity.length\n",
    "        if l > max_velox:\n",
    "            scale = max_velox/l\n",
    "            body.velocity = max_velox*scale\n",
    "        w = body.angular_velocity\n",
    "        if abs(w) > max_velox_angular:\n",
    "            body.angular_velocity = max_velox_angular*w/abs(w)\n",
    "\n",
    "    def add_constraints(self):\n",
    "        for idx, body in enumerate(self.bodies):\n",
    "            if idx < len(self.bodies) - 1:\n",
    "                pj = PivotJoint(self.space, body, self.bodies[idx + 1], body.world_to_local(self.PivotPoints[idx][0]),\n",
    "                           self.bodies[idx+1].world_to_local(self.PivotPoints[idx][0]))\n",
    "                # motor = pymunk.constraint.SimpleMotor(body, self.bodies[idx + 1], 0)\n",
    "                # motor.max_force = 10000000\n",
    "                # self.space.add(motor)\n",
    "                self.joints.append(pj.joint)\n",
    "                # self.motors.append(motor)\n",
    "\n",
    "    def denorm_action(self, action):\n",
    "        \"\"\"\n",
    "        action is the angular velocity of each joint, normalised between [-1, 1]\n",
    "        -- numpy array\n",
    "        \"\"\"\n",
    "        p1 = (self.action_high - self.action_low)/2 \n",
    "        p2 = (self.action_high + self.action_low)/2\n",
    "        return action*p1 + p2\n",
    "\n",
    "    def norm_action(self, action):\n",
    "        \"\"\"\n",
    "        action is the angular velocity of each joint, normalised between [-1, 1]\n",
    "        -- numpy array\n",
    "        \"\"\"\n",
    "        p1 = 2/(self.action_high - self.action_low)\n",
    "        p2 = (self.action_high + self.action_low)/2\n",
    "        return p1*(action-p2)\n",
    "\n",
    "    def get_state(self):\n",
    "        \"\"\"Get state, currently showing tuples for each body:\n",
    "            [0] Vec2d POSITION\n",
    "            [1] Scalar VELOCITY (mid-center of body arms)\n",
    "            [2] Scalar ANGLE (Of each body in radians)\n",
    "            [3] Scalar ANGULAR VELOCITY\n",
    "        \"\"\"\n",
    "        # self.state = {body.id:(body.position, body.velocity, body.angle, body.angular_velocity) for body in self.bodies}\n",
    "        peg = self.bodies[-1]\n",
    "        self.state = {'pos':peg.position, 'v':peg.velocity, 'angle':peg.angle, 'omega':peg.angular_velocity}\n",
    "        return self.state\n",
    "\n",
    "\n",
    "class Frontend(pyglet.window.Window):\n",
    "    def __init__(self, *args, **kwargs):\n",
    "        super().__init__(*args, **kwargs)\n",
    "        self.set_location(50,50) # Location To Initialise window\n",
    "        self.fps = FPSDisplay(self)\n",
    "        self.minimize()\n",
    "        self.show = True\n",
    "        self.show_iter = 0\n",
    "\n",
    "        self.space = pymunk.Space()\n",
    "        self.space.gravity = (0, 0) # Gravity-less 2D simulation (2D robot operating on x,y plane)\n",
    "        self.space.damping = 0.99\n",
    "        self.options = DrawOptions()\n",
    "\n",
    "        self.env = StaticEnvironment(self.space)\n",
    "        self.robo = RobotEnvironment(self.space, arm_lengths=[300, 200, 250.0], radii = [5, 5, 10])\n",
    "\n",
    "    def update(self, dt):\n",
    "        \n",
    "        for idx, body in enumerate(self.robo.bodies[1:]):\n",
    "            body.angular_velocity = self.robo.action_buffered[idx] \n",
    "            \n",
    "        for r in range(10):\n",
    "            self.space.step(dt)\n",
    "\n",
    "    def _draw_decorator(func):\n",
    "        @functools.wraps(func)\n",
    "        def wrapped(inst, *args, **kwargs):\n",
    "            if not inst.check():\n",
    "                return\n",
    "            return #func(inst, *args, **kwargs)\n",
    "        return wrapped\n",
    "\n",
    "    def check(self):\n",
    "        if self.show or self.show_iter%250 == 0:\n",
    "            self.show_iter = 0\n",
    "            return True\n",
    "        else:\n",
    "            return False\n",
    "\n",
    "    # @_draw_decorator\n",
    "    def on_draw(self):\n",
    "        # if self.check:\n",
    "        self.clear() # clear the buffer\n",
    "        # Order matters here!\n",
    "        self.space.debug_draw(self.options)\n",
    "        self.fps.draw()\n",
    "\n",
    "    def on_key_release(self, symbol, modifiers):\n",
    "        for body in self.space.bodies:\n",
    "            body.velocity *= 0.25*Vec2d(1,1)\n",
    "            body.angular_velocity *= 0.5\n",
    "\n",
    "    def on_key_press(self, symbol, modifiers):\n",
    "\n",
    "        bodies = self.robo.bodies\n",
    "        # motors = self.robo.motors\n",
    "\n",
    "        for idx, body in enumerate(bodies):\n",
    "            if idx is 0 and body.id is not 'root':\n",
    "                raise Exception(\"Wrong body root\")\n",
    "            if body.id is f'Arm{idx + 1}' and 0 < idx < len(bodies):\n",
    "                raise Exception(\"Wrong body listing arms\")\n",
    "            if body.id is not 'peg' and idx is len(bodies):\n",
    "                raise Exception(\"Wrong body listing peg\")\n",
    "\n",
    "        # v = 0.1\n",
    "        # if symbol == pyglet.window.key.G:\n",
    "        #     motors[-1]._set_rate(v)\n",
    "        #\n",
    "        # if symbol == pyglet.window.key.H:\n",
    "        #     motors[-1]._set_rate(-v)\n",
    "\n",
    "        if symbol == pyglet.window.key.C:\n",
    "            action = np.random.sample(3)*2-1\n",
    "            self.robo.action_buffered = self.robo.denorm_action(action)\n",
    "        \n",
    "        v = 0.2\n",
    "        if symbol == pyglet.window.key.Q:\n",
    "            bodies[-1].angular_velocity += v\n",
    "        if symbol == pyglet.window.key.A:\n",
    "            bodies[-1].angular_velocity -= v\n",
    "        if symbol == pyglet.window.key.W:\n",
    "            bodies[-2].angular_velocity += v\n",
    "        if symbol == pyglet.window.key.S:\n",
    "            bodies[-2].angular_velocity -= v\n",
    "        if symbol == pyglet.window.key.E:\n",
    "            bodies[-1].angular_velocity += v\n",
    "        if symbol == pyglet.window.key.D:\n",
    "            bodies[-1].angular_velocity -= v\n",
    "\n",
    "        c = 10\n",
    "        if symbol == pyglet.window.key.UP:\n",
    "            bodies[-1].velocity += Vec2d(0,c)\n",
    "        if symbol == pyglet.window.key.DOWN:\n",
    "            bodies[-1].velocity -= Vec2d(0,c)\n",
    "        if symbol == pyglet.window.key.LEFT:\n",
    "            bodies[-1].velocity -= Vec2d(c,0)\n",
    "        if symbol == pyglet.window.key.RIGHT:\n",
    "            bodies[-1].velocity += Vec2d(c,0)\n",
    "\n",
    "        if symbol == pyglet.window.key.R:\n",
    "            self.robo.reset_bodies(random_reset = True)\n",
    "            # self.robo.reset_bodies()\n",
    "\n",
    "        if symbol == pyglet.window.key.P:\n",
    "            pyglet.image.get_buffer_manager().get_color_buffer().save('RobotArm.png')\n",
    "\n",
    "    def on_mouse_press(self, x, y, button, modifier):\n",
    "        point_q = self.space.point_query_nearest((x,y), 0, pymunk.ShapeFilter())\n",
    "        if point_q:\n",
    "            print(point_q.shape, point_q.shape.body)\n",
    "\n",
    "    def on_mouse_drag(self, x, y, dx, dy, buttons, modifiers):\n",
    "        self.robo.bodies[-1].velocity = -0.1*(self.robo.bodies[-1].position - Vec2d(x,y))\n",
    "\n",
    "def coll_begin(arbiter, space, data):\n",
    "    # print(f'New Collision {arbiter.shapes}')\n",
    "    pass\n",
    "    return True\n",
    "\n",
    "def coll_pre(arbiter, space, data):\n",
    "    \"\"\"First touch\"\"\"\n",
    "    # RETURN FALSE IF BODIES IN CONTACT ARE JUST THE ARMS AND PEGS or ROOT AND ARMS\n",
    "    return True\n",
    "\n",
    "def coll_post(arbiter, space, data):\n",
    "    # print('Postprocess collision')\n",
    "    \"\"\"Calls during contact\"\"\"\n",
    "    pass\n",
    "\n",
    "def coll_separate(arbiter, space, data):\n",
    "    \"\"\"Calls when objects are not touching\"\"\"\n",
    "    # print('No more collision')\n",
    "    pass\n",
    "\n",
    "if __name__ == \"__main__\":\n",
    "\n",
    "    frontend = Frontend(WINDOW_X, WINDOW_Y, \"RoboPeg2D Simulation\", vsync = False, resizable = False)\n",
    "    frontend.show = True\n",
    "\n",
    "    # TODO - Set motors instead. \n",
    "    \n",
    "    handler = frontend.space.add_default_collision_handler()\n",
    "    handler.begin = coll_begin\n",
    "    handler.pre_solve = coll_pre\n",
    "    handler.post_solve = coll_post\n",
    "    handler.separate = coll_separate\n",
    "\n",
    "    pyglet.clock.schedule_interval(frontend.update, 1/60)\n",
    "    pyglet.app.run()"
   ]
  },
  {
   "cell_type": "code",
   "execution_count": 22,
   "metadata": {},
   "outputs": [],
   "source": [
    "state = frontend.robo.get_state()"
   ]
  },
  {
   "cell_type": "code",
   "execution_count": 5,
   "metadata": {},
   "outputs": [],
   "source": [
    "del(frontend)"
   ]
  },
  {
   "cell_type": "code",
   "execution_count": 2,
   "metadata": {},
   "outputs": [],
   "source": [
    "import numpy as np"
   ]
  },
  {
   "cell_type": "code",
   "execution_count": 3,
   "metadata": {},
   "outputs": [],
   "source": [
    "self = frontend\n",
    "action = np.random.sample(3)*2-1\n",
    "self.robo.action_buffered = self.robo.denorm_action(action)"
   ]
  },
  {
   "cell_type": "code",
   "execution_count": 5,
   "metadata": {},
   "outputs": [
    {
     "data": {
      "text/plain": [
       "array([-0.24249746, -0.21747684,  0.11116923])"
      ]
     },
     "execution_count": 5,
     "metadata": {},
     "output_type": "execute_result"
    }
   ],
   "source": [
    "self.robo.action_buffered"
   ]
  },
  {
   "cell_type": "code",
   "execution_count": 4,
   "metadata": {},
   "outputs": [
    {
     "data": {
      "text/plain": [
       "3"
      ]
     },
     "execution_count": 4,
     "metadata": {},
     "output_type": "execute_result"
    }
   ],
   "source": [
    "action.shape[0]"
   ]
  },
  {
   "cell_type": "code",
   "execution_count": 1,
   "metadata": {},
   "outputs": [
    {
     "name": "stdout",
     "output_type": "stream",
     "text": [
      "Loading chipmunk for Windows (64bit) [C:\\Users\\Alvaro\\Anaconda3\\lib\\site-packages\\pymunk\\chipmunk.dll]\n"
     ]
    }
   ],
   "source": [
    "import sys\n",
    "sys.path.insert(0,'../')\n",
    "\n",
    "from env import Frontend, WINDOW_X, WINDOW_Y\n",
    "import numpy as np\n",
    "import pandas as pd\n",
    "import matplotlib.pyplot as plt\n",
    "from ddpg import DDPGagent\n",
    "from utils import *\n",
    "from torch import manual_seed, cuda\n",
    "from numpy.random import seed\n",
    "from globals import BATCH_SIZE, DT, SEED\n",
    "import time\n",
    "\n",
    "def run_policy(agent, env):\n",
    "    if isinstance(env, Frontend):\n",
    "        del(env)\n",
    "    env = Frontend(WINDOW_X, WINDOW_Y, \"RoboPeg2D Simulation\", vsync = False, resizable = False, visible = True)\n",
    "    env.run_policy(agent)\n",
    "\n",
    "rewards = []\n",
    "avg_rewards = []\n",
    "    \n",
    "manual_seed(SEED)\n",
    "seed(SEED)\n",
    "\n",
    "env = Frontend(WINDOW_X, WINDOW_Y, \"RoboPeg2D Simulation\", vsync = False, resizable = False, visible = False)\n",
    "agent = DDPGagent(env, dt = DT)\n",
    "param_noise = AdaptiveParamNoiseSpec(initial_stddev=0.05,desired_action_stddev=0.3, adaptation_coefficient=1.05)"
   ]
  },
  {
   "cell_type": "code",
   "execution_count": 17,
   "metadata": {
    "scrolled": true
   },
   "outputs": [
    {
     "name": "stdout",
     "output_type": "stream",
     "text": [
      "Average Return 305.3380999432804 on iteration 0\n",
      "Average Return 289.28812286954803 on iteration 1\n",
      "Average Return 272.30260487811563 on iteration 2\n",
      "Average Return 255.8697087340003 on iteration 3\n",
      "Average Return 240.065018804693 on iteration 4\n",
      "Average Return 224.2003034186339 on iteration 5\n",
      "Average Return 207.57364236728048 on iteration 6\n",
      "Average Return 191.67307904293335 on iteration 7\n",
      "Average Return 175.68214794862422 on iteration 8\n",
      "Average Return 159.6819154400073 on iteration 9\n",
      "Average Return 159.28308089360084 on iteration 10\n",
      "Average Return 159.22408286278716 on iteration 11\n",
      "Average Return 158.61513266377003 on iteration 12\n",
      "Average Return 158.4456864592058 on iteration 13\n",
      "Average Return 156.42797852861307 on iteration 14\n",
      "Average Return 154.12368397873234 on iteration 15\n",
      "Average Return 151.09899808464195 on iteration 16\n",
      "Average Return 143.20874079146586 on iteration 17\n",
      "Average Return 142.78777011646216 on iteration 18\n",
      "Average Return 132.7596253589646 on iteration 19\n",
      "Average Return 121.76076151560228 on iteration 20\n",
      "Average Return 108.58440423947013 on iteration 21\n",
      "Average Return 96.34572227519446 on iteration 22\n",
      "Average Return 84.16487892919345 on iteration 23\n",
      "Average Return 76.24891669526575 on iteration 24\n",
      "108.73914623260498\n"
     ]
    }
   ],
   "source": [
    "import sys\n",
    "sys.path.insert(0,'../')\n",
    "\n",
    "from env import Frontend, WINDOW_X, WINDOW_Y\n",
    "import numpy as np\n",
    "import pandas as pd\n",
    "import matplotlib.pyplot as plt\n",
    "from ddpg import DDPGagent\n",
    "from utils import *\n",
    "from torch import manual_seed, cuda\n",
    "from numpy.random import seed\n",
    "from globals import BATCH_SIZE, DT, SEED\n",
    "import time\n",
    "\n",
    "def run_policy(agent, env):\n",
    "    if isinstance(env, Frontend):\n",
    "        del(env)\n",
    "    env = Frontend(WINDOW_X, WINDOW_Y, \"RoboPeg2D Simulation\", vsync = False, resizable = False, visible = True)\n",
    "    env.run_policy(agent)\n",
    "\n",
    "rewards = []\n",
    "avg_rewards = []\n",
    "    \n",
    "manual_seed(SEED)\n",
    "seed(SEED)\n",
    "\n",
    "env = Frontend(WINDOW_X, WINDOW_Y, \"RoboPeg2D Simulation\", vsync = False, resizable = False, visible = False)\n",
    "agent = DDPGagent(env, dt = DT)\n",
    "param_noise = AdaptiveParamNoiseSpec(initial_stddev=0.05,desired_action_stddev=0.3, adaptation_coefficient=1.05)\n",
    "\n",
    "t_start = time.time()\n",
    "\n",
    "\n",
    "for episode in range(25):\n",
    "    state = env.reset()\n",
    "    agent.perturb_actor_parameters(param_noise)\n",
    "    agent.noise.reset()\n",
    "    episode_reward = 0\n",
    "    noise_counter = 0\n",
    "    \n",
    "    for step in range(250):\n",
    "        action = agent.get_action(state, action_noise = agent.noise.step(), parametric_noise = param_noise)\n",
    "        new_state, reward, done, _ = env.step_func(action, dt = DT)\n",
    "        agent.memory.push(state, action, reward, new_state, done)\n",
    "\n",
    "        if len(agent.memory) > BATCH_SIZE:\n",
    "            agent.update(BATCH_SIZE)\n",
    "            \n",
    "        noise_counter += 1\n",
    "        state = new_state\n",
    "        episode_reward += reward\n",
    "\n",
    "        if done:\n",
    "            sys.stdout.write(\"episode: {}, reward: {}, average _reward: {} \\n\".format(episode, np.round(episode_reward, decimals=2), np.mean(rewards[-10:])))\n",
    "            break\n",
    "\n",
    "    if agent.memory.counter-noise_counter > 0:\n",
    "        noise_data=[agent.memory.buffer[i] for i in range(agent.memory.counter-noise_counter, agent.memory.counter)]\n",
    "    else:\n",
    "        noise_data=[agent.memory.buffer[i] for i in range(agent.memory.counter-noise_counter+agent.memory.max_size//2, \n",
    "                                                         agent.memory.max_size//2)]\\\n",
    "        + [agent.memory.buffer[i] for i in range(0, agent.memory.counter)]\n",
    "\n",
    "    noise_data=np.array(noise_data)\n",
    "    noise_s, noise_a, _,_ , _= zip(*noise_data)\n",
    "\n",
    "    perturbed_actions = noise_a\n",
    "    unperturbed_actions = agent.get_action(np.array(noise_s), None, None)\n",
    "    ddpg_dist = ddpg_distance_metric(perturbed_actions, unperturbed_actions)\n",
    "    param_noise.adapt(ddpg_dist)\n",
    "    \n",
    "    rewards.append(episode_reward)\n",
    "    avg_rewards.append(np.mean(rewards[-10:]))\n",
    "    print(f'Average Return {np.mean(rewards[-10:])} on iteration {episode}')\n",
    "    \n",
    "t_end = time.time()\n",
    "print(t_end-t_start)\n",
    "\n",
    "plt.plot(rewards)\n",
    "plt.plot(avg_rewards)\n",
    "plt.plot()\n",
    "plt.xlabel('Episode')\n",
    "plt.ylabel('Reward')\n",
    "plt.show()"
   ]
  },
  {
   "cell_type": "code",
   "execution_count": 18,
   "metadata": {},
   "outputs": [
    {
     "data": {
      "image/png": "[encoded data removed]",
      "text/plain": [
       "<Figure size 432x288 with 1 Axes>"
      ]
     },
     "metadata": {
      "needs_background": "light"
     },
     "output_type": "display_data"
    }
   ],
   "source": []
  },
  {
   "cell_type": "code",
   "execution_count": 19,
   "metadata": {},
   "outputs": [],
   "source": [
    "run_policy(agent, env) "
   ]
  },
  {
   "cell_type": "code",
   "execution_count": 2,
   "metadata": {},
   "outputs": [],
   "source": []
  },
  {
   "cell_type": "code",
   "execution_count": 3,
   "metadata": {},
   "outputs": [
    {
     "name": "stdout",
     "output_type": "stream",
     "text": [
      "C:\\Users\\Alvaro\\Desktop\\Alvaro\\Imperial College\\MSc\\Project\\meta_robot\\sandbox\n"
     ]
    }
   ],
   "source": []
  },
  {
   "cell_type": "code",
   "execution_count": null,
   "metadata": {},
   "outputs": [],
   "source": []
  }
 ],
 "metadata": {
  "kernelspec": {
   "display_name": "Python 3",
   "language": "python",
   "name": "python3"
  },
  "language_info": {
   "codemirror_mode": {
    "name": "ipython",
    "version": 3
   },
   "file_extension": ".py",
   "mimetype": "text/x-python",
   "name": "python",
   "nbconvert_exporter": "python",
   "pygments_lexer": "ipython3",
   "version": "3.7.1"
  }
 },
 "nbformat": 4,
 "nbformat_minor": 4
}
